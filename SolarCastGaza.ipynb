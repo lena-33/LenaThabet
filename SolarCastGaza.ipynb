{
  "nbformat": 4,
  "nbformat_minor": 0,
  "metadata": {
    "colab": {
      "provenance": [],
      "authorship_tag": "ABX9TyMi0FXAyDu79EgZTUrBVhkP",
      "include_colab_link": true
    },
    "kernelspec": {
      "name": "python3",
      "display_name": "Python 3"
    },
    "language_info": {
      "name": "python"
    }
  },
  "cells": [
    {
      "cell_type": "markdown",
      "metadata": {
        "id": "view-in-github",
        "colab_type": "text"
      },
      "source": [
        "<a href=\"https://colab.research.google.com/github/lena-33/LenaThabet/blob/main/SolarCastGaza.ipynb\" target=\"_parent\"><img src=\"https://colab.research.google.com/assets/colab-badge.svg\" alt=\"Open In Colab\"/></a>"
      ]
    },
    {
      "cell_type": "code",
      "execution_count": 9,
      "metadata": {
        "colab": {
          "base_uri": "https://localhost:8080/"
        },
        "id": "r1IUucLowWWd",
        "outputId": "43eaaf30-4369-4d6c-c12b-477b4e12d8ef"
      },
      "outputs": [
        {
          "output_type": "stream",
          "name": "stdout",
          "text": [
            "Weather forecast for Gaza (next 5 days, every 3 hours):\n",
            "2025-06-15 15:00:00 - Temp: 27.1°C, Weather: clear sky\n",
            "2025-06-15 18:00:00 - Temp: 26.15°C, Weather: clear sky\n",
            "2025-06-15 21:00:00 - Temp: 24.26°C, Weather: clear sky\n",
            "2025-06-16 00:00:00 - Temp: 21.95°C, Weather: few clouds\n",
            "2025-06-16 03:00:00 - Temp: 22.68°C, Weather: broken clouds\n",
            "2025-06-16 06:00:00 - Temp: 24.98°C, Weather: scattered clouds\n",
            "2025-06-16 09:00:00 - Temp: 26.4°C, Weather: few clouds\n",
            "2025-06-16 12:00:00 - Temp: 26.59°C, Weather: clear sky\n"
          ]
        }
      ],
      "source": [
        "import requests\n",
        "import json\n",
        "\n",
        "api_key = \"97dd654d1d70f121b6bf328fd5e855e2\"\n",
        "city = \"Gaza, PS\"\n",
        "url = f\"http://api.openweathermap.org/data/2.5/forecast?q={city}&appid={api_key}&units=metric\"\n",
        "\n",
        "response = requests.get(url)\n",
        "\n",
        "if response.status_code == 200:\n",
        "    data = response.json()\n",
        "    # طباعة ملخص بيانات الطقس لليوم الأول\n",
        "    print(\"Weather forecast for Gaza (next 5 days, every 3 hours):\")\n",
        "    for entry in data['list'][:8]:  # أول 8 نقاط زمنية (24 ساعة)\n",
        "        dt_txt = entry['dt_txt']\n",
        "        temp = entry['main']['temp']\n",
        "        weather_desc = entry['weather'][0]['description']\n",
        "        print(f\"{dt_txt} - Temp: {temp}°C, Weather: {weather_desc}\")\n",
        "else:\n",
        "    print(\"Error fetching data:\", response.status_code)\n",
        "    print(response.text)"
      ]
    },
    {
      "cell_type": "code",
      "source": [
        "import requests\n",
        "import pandas as pd\n",
        "\n",
        "# إعدادات\n",
        "api_key = \"97dd654d1d70f121b6bf328fd5e855e2\" # Replace with your actual API key\n",
        "city = \"Gaza,PS\"\n",
        "url = f\"https://api.openweathermap.org/data/2.5/forecast?q={city}&appid={api_key}&units=metric\"\n",
        "\n",
        "# بيانات الطقس\n",
        "response = requests.get(url)\n",
        "\n",
        "if response.status_code == 200:\n",
        "    data = response.json()\n",
        "\n",
        "    # عدد الألواح وقدرة كل واحد\n",
        "    num_panels = 4\n",
        "    panel_watt = 300  # 300 واط لكل لوح\n",
        "\n",
        "    # معامل إنتاج حسب حالة الطقس\n",
        "    weather_effect = {\n",
        "        \"clear sky\": 1.0,\n",
        "        \"few clouds\": 0.8,\n",
        "        \"scattered clouds\": 0.6,\n",
        "        \"broken clouds\": 0.4,\n",
        "        \"overcast clouds\": 0.2,\n",
        "        \"light rain\": 0.2,\n",
        "        \"moderate rain\": 0.2\n",
        "    }\n",
        "\n",
        "    # استخراج البيانات إلى DataFrame\n",
        "    rows = []\n",
        "    for item in data[\"list\"]:\n",
        "        time = item[\"dt_txt\"]\n",
        "        temp = item[\"main\"][\"temp\"]\n",
        "        weather = item[\"weather\"][0][\"description\"]\n",
        "\n",
        "        hour = int(time[11:13])\n",
        "        if 6 <= hour <= 18:  # فقط ساعات النهار\n",
        "            effect = weather_effect.get(weather, 0.5)  # قيمة افتراضية\n",
        "            energy_kwh = (panel_watt * num_panels / 1000) * effect * 3  # 3 ساعات لكل فترة\n",
        "            rows.append([time, temp, weather, effect, round(energy_kwh, 2)])\n",
        "\n",
        "    # إنشاء DataFrame\n",
        "    df = pd.DataFrame(rows, columns=[\"Time\", \"Temp (°C)\", \"Weather\", \"Effect\", \"Estimated kWh\"])\n",
        "    df[\"Day\"] = pd.to_datetime(df[\"Time\"]).dt.date\n",
        "\n",
        "    # تجميع الطاقة حسب اليوم\n",
        "    daily_summary = df.groupby(\"Day\")[\"Estimated kWh\"].sum().reset_index()\n",
        "    daily_summary.columns = [\"Day\", \"Total Energy (kWh)\"]\n",
        "\n",
        "    print(\"\\n🔋 تقدير الطاقة المنتجة يوميًا (عدد الألواح:\", num_panels, \")\")\n",
        "    print(daily_summary)\n",
        "else:\n",
        "    print(\"Error fetching data:\", response.status_code)\n",
        "    print(response.text)"
      ],
      "metadata": {
        "colab": {
          "base_uri": "https://localhost:8080/"
        },
        "id": "8j6seLne1i1N",
        "outputId": "d8ceef3d-9ba7-4980-8984-5e0e5d2a9b51"
      },
      "execution_count": 13,
      "outputs": [
        {
          "output_type": "stream",
          "name": "stdout",
          "text": [
            "\n",
            "🔋 تقدير الطاقة المنتجة يوميًا (عدد الألواح: 4 )\n",
            "          Day  Total Energy (kWh)\n",
            "0  2025-06-15                7.20\n",
            "1  2025-06-16               15.84\n",
            "2  2025-06-17               18.00\n",
            "3  2025-06-18               18.00\n",
            "4  2025-06-19               18.00\n",
            "5  2025-06-20               10.80\n"
          ]
        }
      ]
    },
    {
      "cell_type": "code",
      "source": [
        "!pip install gradio --quiet"
      ],
      "metadata": {
        "id": "Bq1u5ffc56U7"
      },
      "execution_count": 15,
      "outputs": []
    },
    {
      "cell_type": "code",
      "source": [
        "import gradio as gr\n",
        "import requests\n",
        "import pandas as pd\n",
        "from datetime import datetime\n",
        "\n",
        "def solar_prediction(num_panels):\n",
        "    # إعدادات الطقس\n",
        "    api_key = \"97dd654d1d70f121b6bf328fd5e855e2\"\n",
        "    city = \"Gaza,PS\"\n",
        "    url = f\"https://api.openweathermap.org/data/2.5/forecast?q={city}&appid={api_key}&units=metric\"\n",
        "    response = requests.get(url)\n",
        "    data = response.json()\n",
        "\n",
        "    panel_watt = 300  # واط لكل لوح\n",
        "\n",
        "    weather_effect = {\n",
        "        \"clear sky\": 1.0,\n",
        "        \"few clouds\": 0.8,\n",
        "        \"scattered clouds\": 0.6,\n",
        "        \"broken clouds\": 0.4,\n",
        "        \"overcast clouds\": 0.2,\n",
        "        \"light rain\": 0.2,\n",
        "        \"moderate rain\": 0.2\n",
        "    }\n",
        "\n",
        "    # جمع البيانات\n",
        "    rows = []\n",
        "    for item in data[\"list\"]:\n",
        "        time = item[\"dt_txt\"]\n",
        "        temp = item[\"main\"][\"temp\"]\n",
        "        weather = item[\"weather\"][0][\"description\"]\n",
        "\n",
        "        hour = int(time[11:13])\n",
        "        if 6 <= hour <= 18:\n",
        "            effect = weather_effect.get(weather, 0.5)\n",
        "            energy_kwh = (panel_watt * num_panels / 1000) * effect * 3\n",
        "            rows.append([time, temp, weather, effect, round(energy_kwh, 2)])\n",
        "\n",
        "    df = pd.DataFrame(rows, columns=[\"Time\", \"Temp (°C)\", \"Weather\", \"Effect\", \"Estimated kWh\"])\n",
        "    df[\"Day\"] = pd.to_datetime(df[\"Time\"]).dt.date\n",
        "    daily_summary = df.groupby(\"Day\")[\"Estimated kWh\"].sum().reset_index()\n",
        "    daily_summary.columns = [\"Day\", \"Total Energy (kWh)\"]\n",
        "\n",
        "    # إضافة رسائل ذكية\n",
        "    def get_message(kwh):\n",
        "        if kwh >= 17:\n",
        "            return \"☀☀ يوم ممتاز للشحن الكامل\"\n",
        "        elif kwh >= 13:\n",
        "            return \"☀ يوم جيد جدًا للشحن\"\n",
        "        elif kwh >= 9:\n",
        "            return \"🌤 إنتاج جيد، استغل النهار\"\n",
        "        else:\n",
        "            return \"🌥 إنتاج منخفض – جدول شحنك بعناية\"\n",
        "\n",
        "    daily_summary[\"Message\"] = daily_summary[\"Total Energy (kWh)\"].apply(get_message)\n",
        "\n",
        "    return daily_summary\n",
        "\n",
        "# واجهة Gradio\n",
        "gr.Interface(\n",
        "    fn=solar_prediction,\n",
        "    inputs=gr.Number(label=\"🔢 عدد الألواح الشمسية\", value=4),\n",
        "    outputs=gr.Dataframe(label=\"🔋 توقع إنتاج الطاقة (لـ 5 أيام)\"),\n",
        "    title=\"☀ توقع إنتاج الكهرباء من الطاقة الشمسية\",\n",
        "    description=\"أدخل عدد الألواح الشمسية لتقدير كمية الطاقة المنتجة في الأيام الخمسة القادمة في غزة\"\n",
        ").launch(debug=True)"
      ],
      "metadata": {
        "colab": {
          "base_uri": "https://localhost:8080/",
          "height": 663
        },
        "id": "Ngjd2BTx6fWf",
        "outputId": "83160249-360d-4d59-a7e9-d26e374a0f50"
      },
      "execution_count": null,
      "outputs": [
        {
          "output_type": "stream",
          "name": "stdout",
          "text": [
            "It looks like you are running Gradio on a hosted a Jupyter notebook. For the Gradio app to work, sharing must be enabled. Automatically setting `share=True` (you can turn this off by setting `share=False` in `launch()` explicitly).\n",
            "\n",
            "Colab notebook detected. This cell will run indefinitely so that you can see errors and logs. To turn off, set debug=False in launch().\n",
            "* Running on public URL: https://b7eec8ee57f26059e8.gradio.live\n",
            "\n",
            "This share link expires in 1 week. For free permanent hosting and GPU upgrades, run `gradio deploy` from the terminal in the working directory to deploy to Hugging Face Spaces (https://huggingface.co/spaces)\n"
          ]
        },
        {
          "output_type": "display_data",
          "data": {
            "text/plain": [
              "<IPython.core.display.HTML object>"
            ],
            "text/html": [
              "<div><iframe src=\"https://b7eec8ee57f26059e8.gradio.live\" width=\"100%\" height=\"500\" allow=\"autoplay; camera; microphone; clipboard-read; clipboard-write;\" frameborder=\"0\" allowfullscreen></iframe></div>"
            ]
          },
          "metadata": {}
        },
        {
          "output_type": "stream",
          "name": "stdout",
          "text": [
            "Created dataset file at: .gradio/flagged/dataset1.csv\n"
          ]
        }
      ]
    }
  ]
}